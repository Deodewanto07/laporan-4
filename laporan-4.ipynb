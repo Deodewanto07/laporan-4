{
 "cells": [
  {
   "cell_type": "code",
   "execution_count": 3,
   "metadata": {},
   "outputs": [
    {
     "name": "stdout",
     "output_type": "stream",
     "text": [
      "True\n",
      "False\n",
      "False\n",
      "False\n",
      "True\n"
     ]
    }
   ],
   "source": [
    "#   LATIHAN 1\n",
    "\n",
    "def cek_angka(a, b, c):\n",
    "    if a != b and a != c and b != c:\n",
    "        if a + b == c or a + c == b or b + c == a:\n",
    "            return True\n",
    "    return False\n",
    "\n",
    "# cek_angka function\n",
    "print(cek_angka(1, 2, 3))  # True\n",
    "print(cek_angka(1, 2, 4))  # False\n",
    "print(cek_angka(2, 2, 2))  # False\n",
    "print(cek_angka(3, 4, 5))  # False\n",
    "print(cek_angka(3, 4, 7))  # True"
   ]
  },
  {
   "cell_type": "code",
   "execution_count": 2,
   "metadata": {},
   "outputs": [
    {
     "name": "stdout",
     "output_type": "stream",
     "text": [
      "C = 100. F = 212.0.\n",
      "C = 80 F = 64.0.\n",
      "C = 0. F = 32.0.\n"
     ]
    }
   ],
   "source": [
    "# latihan 3\n",
    "Celsius_to_fahrenheit = lambda c : (9/5) * c + 32\n",
    "Celsius_to_reamur = lambda c : 0.8 * c\n",
    "\n",
    "\n",
    "Celsius_1 = 100\n",
    "output_fahrenheit_1 = Celsius_to_fahrenheit(Celsius_1)\n",
    "Celsius_2 = 80\n",
    "output_reamur_2 = Celsius_to_reamur(Celsius_2)\n",
    "Celsius_3 = 0\n",
    "output_fahrenheit_3 = Celsius_to_fahrenheit(Celsius_3)\n",
    "\n",
    "\n",
    "\n",
    "print(f\"C = {Celsius_1}. F = {output_fahrenheit_1}.\")\n",
    "print(f\"C = {Celsius_2} F = {output_reamur_2}.\")\n",
    "print(f\"C = {Celsius_3}. F = { output_fahrenheit_3}.\")"
   ]
  },
  {
   "cell_type": "code",
   "execution_count": 1,
   "metadata": {},
   "outputs": [
    {
     "name": "stdout",
     "output_type": "stream",
     "text": [
      "True\n"
     ]
    }
   ],
   "source": [
    "# latihan 2\n",
    "\n",
    "def cek_digit_belakang(a,b,c):\n",
    "    digit_a= a % 10\n",
    "    digit_b= b % 10\n",
    "    digit_c= c % 10\n",
    "    \n",
    "    if digit_a == digit_b or digit_a == digit_c or digit_b == digit_c:\n",
    "        return True\n",
    "    else:\n",
    "        return False\n",
    "    \n",
    "print(cek_digit_belakang(30,20,1))"
   ]
  }
 ],
 "metadata": {
  "kernelspec": {
   "display_name": "Python 3",
   "language": "python",
   "name": "python3"
  },
  "language_info": {
   "codemirror_mode": {
    "name": "ipython",
    "version": 3
   },
   "file_extension": ".py",
   "mimetype": "text/x-python",
   "name": "python",
   "nbconvert_exporter": "python",
   "pygments_lexer": "ipython3",
   "version": "3.12.2"
  },
  "orig_nbformat": 4
 },
 "nbformat": 4,
 "nbformat_minor": 2
}
